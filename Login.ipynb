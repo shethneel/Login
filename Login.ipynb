{
 "cells": [
  {
   "cell_type": "code",
   "execution_count": null,
   "metadata": {},
   "outputs": [],
   "source": [
    "#CHOICE PART\n",
    "\n",
    "print(\"Welcome to bank of python\")\n",
    "print(\"1=Customer\")\n",
    "print(\"2=Admin\")\n",
    "x = int(input(\"Choose your role: \"))\n",
    "if (x!=1 and 2):\n",
    "    print(\"#Chose from above only#\")\n",
    "\n",
    "#LOGIN PART\n",
    "\n",
    "if (x==1):\n",
    "    m = int(input(\"Enter your id: \"))\n",
    "    if (m==1010):\n",
    "        n = int(input(\"Enter your password: \"))\n",
    "    if (m!=1010):\n",
    "            print(\"id is wrong\")\n",
    "    if (n!=101):\n",
    "        print(\"wrong password\")\n",
    "    if (n==101):\n",
    "        print(\"welcome to account Mr. Neel\")\n",
    "if (x==2):\n",
    "    a = int(input(\"Enter your id: \"))\n",
    "    if (a==9999):\n",
    "        b = int(input(\"Enter your password: \"))\n",
    "    if (a!=9999):\n",
    "            print(\"id is wrong: \")\n",
    "    if (b!=989):\n",
    "        print(\"wrong password\")\n",
    "    if (b==989):\n",
    "        print(\"welcome to account Mr.Admin\")"
   ]
  }
 ],
 "metadata": {
  "kernelspec": {
   "display_name": "Python 3",
   "language": "python",
   "name": "python3"
  },
  "language_info": {
   "codemirror_mode": {
    "name": "ipython",
    "version": 3
   },
   "file_extension": ".py",
   "mimetype": "text/x-python",
   "name": "python",
   "nbconvert_exporter": "python",
   "pygments_lexer": "ipython3",
   "version": "3.7.6"
  }
 },
 "nbformat": 4,
 "nbformat_minor": 4
}
